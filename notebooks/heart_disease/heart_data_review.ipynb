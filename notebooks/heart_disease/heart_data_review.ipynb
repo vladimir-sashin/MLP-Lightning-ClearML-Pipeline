{
 "cells": [
  {
   "cell_type": "markdown",
   "id": "6d1d8dce-00be-4724-b50f-57906090a063",
   "metadata": {},
   "source": [
    "# Simple dataset review (initial not preprocessed dataset)"
   ]
  },
  {
   "cell_type": "code",
   "execution_count": null,
   "id": "5b1c865e-fbf7-4629-8cd0-2d1a5edae90b",
   "metadata": {
    "tags": []
   },
   "outputs": [],
   "source": [
    "import os\n",
    "\n",
    "import pandas as pd\n",
    "\n",
    "from src.config import get_data_cfg\n",
    "from src.constants import PROJECT_ROOT"
   ]
  },
  {
   "cell_type": "markdown",
   "id": "b0ac12ed-7295-4e84-9f84-e5a8c83717d8",
   "metadata": {
    "tags": []
   },
   "source": [
    "## Read and describe the data\n",
    "\n",
    "**Set path to the data config in the `CONFIG_PATH` env variable below** (path must be relative to the `PROJECT_ROOT`). If not set, default config will be used."
   ]
  },
  {
   "cell_type": "code",
   "execution_count": null,
   "id": "f400e796-dcf3-4def-ab24-67df908cd47b",
   "metadata": {
    "tags": []
   },
   "outputs": [],
   "source": [
    "%env CONFIG_PATH=configs/mlp_heart_data_config.yaml"
   ]
  },
  {
   "cell_type": "code",
   "execution_count": null,
   "id": "8a391c54-447d-4b72-968b-990d39a5970a",
   "metadata": {
    "tags": []
   },
   "outputs": [],
   "source": [
    "cfg = get_data_cfg(os.getenv('DATASET_PATH'))\n",
    "csv_path = cfg.raw_csv_path\n",
    "df = pd.read_csv(PROJECT_ROOT / csv_path)"
   ]
  },
  {
   "cell_type": "code",
   "execution_count": null,
   "id": "f58e2e65-5c94-4014-93c2-030dfebf4090",
   "metadata": {
    "tags": []
   },
   "outputs": [],
   "source": [
    "df"
   ]
  },
  {
   "cell_type": "code",
   "execution_count": null,
   "id": "37b30520-fc4e-4b88-8914-30cebbbcadeb",
   "metadata": {
    "tags": []
   },
   "outputs": [],
   "source": [
    "df.describe()"
   ]
  },
  {
   "cell_type": "markdown",
   "id": "ea6ba887-2cac-4e5e-8944-8215224bec6d",
   "metadata": {},
   "source": [
    "## Find and drop missing values"
   ]
  },
  {
   "cell_type": "code",
   "execution_count": null,
   "id": "2ebe6b80-af09-495c-a2ff-85bc8b1ef949",
   "metadata": {
    "tags": []
   },
   "outputs": [],
   "source": [
    "df.isnull().sum()"
   ]
  },
  {
   "cell_type": "markdown",
   "id": "bd3332fe-e7f4-4dc8-95bf-2f61caaae042",
   "metadata": {},
   "source": [
    "0 values of `Cholesterol` and `RestingBP` may be considered missing and thus should be removed or imputed."
   ]
  },
  {
   "cell_type": "code",
   "execution_count": null,
   "id": "3b81599d-3e12-4466-b681-cef969151b67",
   "metadata": {
    "tags": []
   },
   "outputs": [],
   "source": [
    "df[(df['Cholesterol'] == 0) | (df['RestingBP'] == 0)]"
   ]
  },
  {
   "cell_type": "markdown",
   "id": "fa650157-62db-43d3-a853-4d0080800584",
   "metadata": {},
   "source": [
    "Drop these missing values"
   ]
  },
  {
   "cell_type": "code",
   "execution_count": null,
   "id": "85c95112-e4c9-4d85-be63-b591d8d8aeb1",
   "metadata": {
    "tags": []
   },
   "outputs": [],
   "source": [
    "df_no_na = df[(df['Cholesterol'] > 0) & (df['RestingBP'] > 0)]\n",
    "df_no_na"
   ]
  },
  {
   "cell_type": "code",
   "execution_count": null,
   "id": "0a39a16a-c554-498e-88e1-aab6aa41d8c3",
   "metadata": {
    "tags": []
   },
   "outputs": [],
   "source": [
    "df_no_na.describe()"
   ]
  },
  {
   "cell_type": "markdown",
   "id": "36fdc36e-ed10-49b3-987d-a07a74f407ac",
   "metadata": {},
   "source": [
    "## Categorical variables"
   ]
  },
  {
   "cell_type": "code",
   "execution_count": null,
   "id": "01c65e31-67b5-4755-9b36-0c57ed80375f",
   "metadata": {
    "tags": []
   },
   "outputs": [],
   "source": [
    "def count_cats(col: pd.Series) -> pd.Series:\n",
    "    return col.value_counts(normalize=True).apply(lambda freq: round(freq, 2))"
   ]
  },
  {
   "cell_type": "code",
   "execution_count": null,
   "id": "565471c6-c91b-4ffc-a94a-d47bc689ef87",
   "metadata": {
    "tags": []
   },
   "outputs": [],
   "source": [
    "categorical_cols = ['Sex', 'ChestPainType', 'FastingBS', 'RestingECG', 'ExerciseAngina', 'ST_Slope']\n",
    "\n",
    "for col in categorical_cols:\n",
    "    print(count_cats(df_no_na[col]))\n",
    "    print()"
   ]
  },
  {
   "cell_type": "markdown",
   "id": "cda8b7dd-1d37-48ae-8999-a4d540ef81e4",
   "metadata": {},
   "source": [
    "## Target class balance"
   ]
  },
  {
   "cell_type": "code",
   "execution_count": null,
   "id": "708e7a91-b58b-4ed4-83f3-9b948cc5ddcb",
   "metadata": {
    "tags": []
   },
   "outputs": [],
   "source": [
    "count_cats(df_no_na['HeartDisease'])"
   ]
  },
  {
   "cell_type": "code",
   "execution_count": null,
   "id": "0d93bceb-af84-4371-8e66-dee66acfd125",
   "metadata": {},
   "outputs": [],
   "source": []
  }
 ],
 "metadata": {
  "kernelspec": {
   "display_name": "Python 3 (ipykernel)",
   "language": "python",
   "name": "python3"
  },
  "language_info": {
   "codemirror_mode": {
    "name": "ipython",
    "version": 3
   },
   "file_extension": ".py",
   "mimetype": "text/x-python",
   "name": "python",
   "nbconvert_exporter": "python",
   "pygments_lexer": "ipython3",
   "version": "3.10.11"
  }
 },
 "nbformat": 4,
 "nbformat_minor": 5
}
